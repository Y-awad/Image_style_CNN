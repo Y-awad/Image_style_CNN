{
 "cells": [
  {
   "cell_type": "code",
   "execution_count": 1,
   "id": "6b609898",
   "metadata": {},
   "outputs": [],
   "source": [
    "import os\n",
    "import shutil\n",
    "import random\n",
    "from sklearn.model_selection import train_test_split\n",
    "from collections import defaultdict\n"
   ]
  },
  {
   "cell_type": "markdown",
   "id": "a97cd360",
   "metadata": {},
   "source": [
    "# Data loading"
   ]
  },
  {
   "cell_type": "code",
   "execution_count": 3,
   "id": "e880e9b7",
   "metadata": {},
   "outputs": [
    {
     "name": "stdout",
     "output_type": "stream",
     "text": [
      "Total content images: 35093\n",
      "Total style images: 5000\n"
     ]
    }
   ],
   "source": [
    "# Set random seed for reproducibility\n",
    "random.seed(42)\n",
    "\n",
    "# Define paths\n",
    "base_dir = \".\"\n",
    "content_base_dir = os.path.join(base_dir, \"Content\", \"images\", \"images\")\n",
    "style_dir = os.path.join(base_dir, \"style\")\n",
    "\n",
    "# Output directories for splits\n",
    "content_train_dir = os.path.join(base_dir, \"Content\", \"train\")\n",
    "content_val_dir = os.path.join(base_dir, \"Content\", \"validation\")\n",
    "content_test_dir = os.path.join(base_dir, \"Content\", \"test\")\n",
    "style_train_dir = os.path.join(base_dir, \"style\", \"train\")\n",
    "style_val_dir = os.path.join(base_dir, \"style\", \"validation\")\n",
    "style_test_dir = os.path.join(base_dir, \"style\", \"test\")\n",
    "\n",
    "# Create output directories if they don't exist\n",
    "for directory in [content_train_dir, content_val_dir, content_test_dir, \n",
    "                  style_train_dir, style_val_dir, style_test_dir]:\n",
    "    os.makedirs(directory, exist_ok=True)\n",
    "\n",
    "# Helper function to get image paths from subfolders\n",
    "def get_image_paths(base_directory):\n",
    "    image_paths = defaultdict(list)\n",
    "    for category in os.listdir(base_directory):\n",
    "        category_path = os.path.join(base_directory, category)\n",
    "        if os.path.isdir(category_path):\n",
    "            image_paths[category] = [os.path.join(category_path, f) for f in os.listdir(category_path)\n",
    "                                    if f.lower().endswith((\".jpg\", \".jpeg\", \".png\"))]\n",
    "    return image_paths\n",
    "\n",
    "# Load all image paths\n",
    "content_images = get_image_paths(content_base_dir)\n",
    "style_images = [os.path.join(style_dir, f) for f in os.listdir(style_dir) \n",
    "                if f.lower().endswith((\".jpg\", \".jpeg\", \".png\"))]\n",
    "\n",
    "# Print initial counts\n",
    "total_content = sum(len(images) for images in content_images.values())\n",
    "print(f\"Total content images: {total_content}\")\n",
    "print(f\"Total style images: {len(style_images)}\")"
   ]
  },
  {
   "cell_type": "markdown",
   "id": "08ea269f",
   "metadata": {},
   "source": [
    "# Sampling"
   ]
  },
  {
   "cell_type": "code",
   "execution_count": 4,
   "id": "f1828f2b",
   "metadata": {},
   "outputs": [
    {
     "name": "stdout",
     "output_type": "stream",
     "text": [
      "Sampled content images: 6998\n",
      "Sampled style images: 3000\n"
     ]
    }
   ],
   "source": [
    "target_content = 7000\n",
    "target_style = 3000\n",
    "\n",
    "# Sample content proportionally from each category\n",
    "content_sampled = []\n",
    "total_images = sum(len(images) for images in content_images.values())\n",
    "for category, images in content_images.items():\n",
    "    if total_images > 0:\n",
    "        category_target = int((len(images) / total_images) * target_content)\n",
    "        category_target = min(category_target, len(images))  # Don't exceed available images\n",
    "        sampled = random.sample(images, category_target) if len(images) >= category_target else images\n",
    "        content_sampled.extend(sampled)\n",
    "\n",
    "# Adjust if still over 7,000 due to rounding\n",
    "if len(content_sampled) > target_content:\n",
    "    content_sampled = random.sample(content_sampled, target_content)\n",
    "elif len(content_sampled) < target_content and len(content_images) > len(content_sampled):\n",
    "    additional = random.sample([img for cat in content_images.values() for img in cat \n",
    "                              if img not in content_sampled], target_content - len(content_sampled))\n",
    "    content_sampled.extend(additional)\n",
    "\n",
    "# Sample style images\n",
    "style_sampled = random.sample(style_images, target_style) if len(style_images) >= target_style else style_images\n",
    "\n",
    "print(f\"Sampled content images: {len(content_sampled)}\")\n",
    "print(f\"Sampled style images: {len(style_sampled)}\")\n"
   ]
  },
  {
   "cell_type": "markdown",
   "id": "2a32a18a",
   "metadata": {},
   "source": [
    "# Splitting"
   ]
  },
  {
   "cell_type": "code",
   "execution_count": null,
   "id": "187667d3",
   "metadata": {},
   "outputs": [
    {
     "name": "stdout",
     "output_type": "stream",
     "text": [
      "Content split - Train: 4898, Val: 1050, Test: 1050\n",
      "Style split - Train: 2100, Val: 450, Test: 450\n"
     ]
    },
    {
     "ename": "KeyboardInterrupt",
     "evalue": "",
     "output_type": "error",
     "traceback": [
      "\u001b[1;31m---------------------------------------------------------------------------\u001b[0m",
      "\u001b[1;31mKeyboardInterrupt\u001b[0m                         Traceback (most recent call last)",
      "Cell \u001b[1;32mIn[6], line 18\u001b[0m\n\u001b[0;32m     15\u001b[0m         shutil\u001b[38;5;241m.\u001b[39mcopy(img_path, os\u001b[38;5;241m.\u001b[39mpath\u001b[38;5;241m.\u001b[39mjoin(destination_dir, os\u001b[38;5;241m.\u001b[39mpath\u001b[38;5;241m.\u001b[39mbasename(img_path)))\n\u001b[0;32m     17\u001b[0m \u001b[38;5;66;03m# Copy content images (preserving category structure is optional; here we flatten)\u001b[39;00m\n\u001b[1;32m---> 18\u001b[0m \u001b[43mcopy_images\u001b[49m\u001b[43m(\u001b[49m\u001b[43mcontent_train\u001b[49m\u001b[43m,\u001b[49m\u001b[43m \u001b[49m\u001b[43mcontent_train_dir\u001b[49m\u001b[43m)\u001b[49m\n\u001b[0;32m     19\u001b[0m copy_images(content_val, content_val_dir)\n\u001b[0;32m     20\u001b[0m copy_images(content_test, content_test_dir)\n",
      "Cell \u001b[1;32mIn[6], line 15\u001b[0m, in \u001b[0;36mcopy_images\u001b[1;34m(image_paths, destination_dir)\u001b[0m\n\u001b[0;32m     13\u001b[0m \u001b[38;5;28;01mdef\u001b[39;00m\u001b[38;5;250m \u001b[39m\u001b[38;5;21mcopy_images\u001b[39m(image_paths, destination_dir):\n\u001b[0;32m     14\u001b[0m     \u001b[38;5;28;01mfor\u001b[39;00m img_path \u001b[38;5;129;01min\u001b[39;00m image_paths:\n\u001b[1;32m---> 15\u001b[0m         \u001b[43mshutil\u001b[49m\u001b[38;5;241;43m.\u001b[39;49m\u001b[43mcopy\u001b[49m\u001b[43m(\u001b[49m\u001b[43mimg_path\u001b[49m\u001b[43m,\u001b[49m\u001b[43m \u001b[49m\u001b[43mos\u001b[49m\u001b[38;5;241;43m.\u001b[39;49m\u001b[43mpath\u001b[49m\u001b[38;5;241;43m.\u001b[39;49m\u001b[43mjoin\u001b[49m\u001b[43m(\u001b[49m\u001b[43mdestination_dir\u001b[49m\u001b[43m,\u001b[49m\u001b[43m \u001b[49m\u001b[43mos\u001b[49m\u001b[38;5;241;43m.\u001b[39;49m\u001b[43mpath\u001b[49m\u001b[38;5;241;43m.\u001b[39;49m\u001b[43mbasename\u001b[49m\u001b[43m(\u001b[49m\u001b[43mimg_path\u001b[49m\u001b[43m)\u001b[49m\u001b[43m)\u001b[49m\u001b[43m)\u001b[49m\n",
      "File \u001b[1;32mC:\\Program Files\\WindowsApps\\PythonSoftwareFoundation.Python.3.11_3.11.2544.0_x64__qbz5n2kfra8p0\\Lib\\shutil.py:431\u001b[0m, in \u001b[0;36mcopy\u001b[1;34m(src, dst, follow_symlinks)\u001b[0m\n\u001b[0;32m    429\u001b[0m \u001b[38;5;28;01mif\u001b[39;00m os\u001b[38;5;241m.\u001b[39mpath\u001b[38;5;241m.\u001b[39misdir(dst):\n\u001b[0;32m    430\u001b[0m     dst \u001b[38;5;241m=\u001b[39m os\u001b[38;5;241m.\u001b[39mpath\u001b[38;5;241m.\u001b[39mjoin(dst, os\u001b[38;5;241m.\u001b[39mpath\u001b[38;5;241m.\u001b[39mbasename(src))\n\u001b[1;32m--> 431\u001b[0m \u001b[43mcopyfile\u001b[49m\u001b[43m(\u001b[49m\u001b[43msrc\u001b[49m\u001b[43m,\u001b[49m\u001b[43m \u001b[49m\u001b[43mdst\u001b[49m\u001b[43m,\u001b[49m\u001b[43m \u001b[49m\u001b[43mfollow_symlinks\u001b[49m\u001b[38;5;241;43m=\u001b[39;49m\u001b[43mfollow_symlinks\u001b[49m\u001b[43m)\u001b[49m\n\u001b[0;32m    432\u001b[0m copymode(src, dst, follow_symlinks\u001b[38;5;241m=\u001b[39mfollow_symlinks)\n\u001b[0;32m    433\u001b[0m \u001b[38;5;28;01mreturn\u001b[39;00m dst\n",
      "File \u001b[1;32mC:\\Program Files\\WindowsApps\\PythonSoftwareFoundation.Python.3.11_3.11.2544.0_x64__qbz5n2kfra8p0\\Lib\\shutil.py:256\u001b[0m, in \u001b[0;36mcopyfile\u001b[1;34m(src, dst, follow_symlinks)\u001b[0m\n\u001b[0;32m    254\u001b[0m     os\u001b[38;5;241m.\u001b[39msymlink(os\u001b[38;5;241m.\u001b[39mreadlink(src), dst)\n\u001b[0;32m    255\u001b[0m \u001b[38;5;28;01melse\u001b[39;00m:\n\u001b[1;32m--> 256\u001b[0m     \u001b[38;5;28;01mwith\u001b[39;00m \u001b[38;5;28mopen\u001b[39m(src, \u001b[38;5;124m'\u001b[39m\u001b[38;5;124mrb\u001b[39m\u001b[38;5;124m'\u001b[39m) \u001b[38;5;28;01mas\u001b[39;00m fsrc:\n\u001b[0;32m    257\u001b[0m         \u001b[38;5;28;01mtry\u001b[39;00m:\n\u001b[0;32m    258\u001b[0m             \u001b[38;5;28;01mwith\u001b[39;00m \u001b[38;5;28mopen\u001b[39m(dst, \u001b[38;5;124m'\u001b[39m\u001b[38;5;124mwb\u001b[39m\u001b[38;5;124m'\u001b[39m) \u001b[38;5;28;01mas\u001b[39;00m fdst:\n\u001b[0;32m    259\u001b[0m                 \u001b[38;5;66;03m# macOS\u001b[39;00m\n",
      "\u001b[1;31mKeyboardInterrupt\u001b[0m: "
     ]
    }
   ],
   "source": [
    "# Content split\n",
    "content_train, content_temp = train_test_split(content_sampled, train_size=0.7, random_state=42)\n",
    "content_val, content_test = train_test_split(content_temp, test_size=0.5, random_state=42)\n",
    "\n",
    "# Style split\n",
    "style_train, style_temp = train_test_split(style_sampled, train_size=0.7, random_state=42)\n",
    "style_val, style_test = train_test_split(style_temp, test_size=0.5, random_state=42)\n",
    "\n",
    "print(f\"Content split - Train: {len(content_train)}, Val: {len(content_val)}, Test: {len(content_test)}\")\n",
    "print(f\"Style split - Train: {len(style_train)}, Val: {len(style_val)}, Test: {len(style_test)}\")\n",
    "\n",
    "# Step 3: Move images to respective split directories\n",
    "def move_images(image_paths, destination_dir):\n",
    "    for img_path in image_paths:\n",
    "        try:\n",
    "            shutil.move(img_path, os.path.join(destination_dir, os.path.basename(img_path)))\n",
    "        except Exception as e:\n",
    "            print(f\"Failed to move {img_path}: {e}\")\n",
    "\n",
    "# Move content images\n",
    "move_images(content_train, content_train_dir)\n",
    "move_images(content_val, content_val_dir)\n",
    "move_images(content_test, content_test_dir)\n",
    "\n",
    "# Move style images\n",
    "move_images(style_train, style_train_dir)\n",
    "move_images(style_val, style_val_dir)\n",
    "move_images(style_test, style_test_dir)\n",
    "\n",
    "# Step 4: Verify splits before deletion\n",
    "print(\"Verifying splits before deleting remaining images...\")\n",
    "print(f\"Content train images: {len(os.listdir(content_train_dir))}\")\n",
    "print(f\"Content validation images: {len(os.listdir(content_val_dir))}\")\n",
    "print(f\"Content test images: {len(os.listdir(content_test_dir))}\")\n",
    "print(f\"Style train images: {len(os.listdir(style_train_dir))}\")\n",
    "print(f\"Style validation images: {len(os.listdir(style_val_dir))}\")\n",
    "print(f\"Style test images: {len(os.listdir(style_test_dir))}\")"
   ]
  },
  {
   "cell_type": "code",
   "execution_count": null,
   "id": "a5ea488e",
   "metadata": {},
   "outputs": [
    {
     "ename": "NameError",
     "evalue": "name 'content_train' is not defined",
     "output_type": "error",
     "traceback": [
      "\u001b[1;31m---------------------------------------------------------------------------\u001b[0m",
      "\u001b[1;31mNameError\u001b[0m                                 Traceback (most recent call last)",
      "Cell \u001b[1;32mIn[5], line 2\u001b[0m\n\u001b[0;32m      1\u001b[0m \u001b[38;5;66;03m# Collect all sampled image paths\u001b[39;00m\n\u001b[1;32m----> 2\u001b[0m all_sampled_content \u001b[38;5;241m=\u001b[39m \u001b[38;5;28mset\u001b[39m(\u001b[43mcontent_train\u001b[49m \u001b[38;5;241m+\u001b[39m content_val \u001b[38;5;241m+\u001b[39m content_test)\n\u001b[0;32m      3\u001b[0m all_sampled_style \u001b[38;5;241m=\u001b[39m \u001b[38;5;28mset\u001b[39m(style_train \u001b[38;5;241m+\u001b[39m style_val \u001b[38;5;241m+\u001b[39m style_test)\n\u001b[0;32m      5\u001b[0m \u001b[38;5;66;03m# Delete unused content images\u001b[39;00m\n",
      "\u001b[1;31mNameError\u001b[0m: name 'content_train' is not defined"
     ]
    }
   ],
   "source": [
    "# Reload remaining content images\n",
    "remaining_content_images = get_image_paths(content_base_dir)\n",
    "remaining_style_images = [os.path.join(style_dir, f) for f in os.listdir(style_dir) \n",
    "                         if f.lower().endswith((\".jpg\", \".jpeg\", \".png\"))]\n",
    "\n",
    "# Delete remaining content images\n",
    "print(\"Deleting remaining content images...\")\n",
    "for category, images in remaining_content_images.items():\n",
    "    category_path = os.path.join(content_base_dir, category)\n",
    "    for img_path in images:\n",
    "        try:\n",
    "            os.remove(img_path)\n",
    "            print(f\"Deleted {img_path}\")\n",
    "        except Exception as e:\n",
    "            print(f\"Failed to delete {img_path}: {e}\")\n",
    "    # Remove category folder if empty\n",
    "    if not os.listdir(category_path):\n",
    "        shutil.rmtree(category_path)\n",
    "        print(f\"Removed empty category folder: {category_path}\")\n",
    "\n",
    "# Delete remaining style images\n",
    "print(\"Deleting remaining style images...\")\n",
    "for img_path in remaining_style_images:\n",
    "    try:\n",
    "        os.remove(img_path)\n",
    "        print(f\"Deleted {img_path}\")\n",
    "    except Exception as e:\n",
    "        print(f\"Failed to delete {img_path}: {e}\")\n",
    "\n",
    "# Final verification\n",
    "print(\"Final folder structure after deletion:\")\n",
    "print(f\"Content train images: {len(os.listdir(content_train_dir))}\")\n",
    "print(f\"Content validation images: {len(os.listdir(content_val_dir))}\")\n",
    "print(f\"Content test images: {len(os.listdir(content_test_dir))}\")\n",
    "print(f\"Style train images: {len(os.listdir(style_train_dir))}\")\n",
    "print(f\"Style validation images: {len(os.listdir(style_val_dir))}\")\n",
    "print(f\"Style test images: {len(os.listdir(style_test_dir))}\")"
   ]
  }
 ],
 "metadata": {
  "kernelspec": {
   "display_name": "Python 3",
   "language": "python",
   "name": "python3"
  },
  "language_info": {
   "codemirror_mode": {
    "name": "ipython",
    "version": 3
   },
   "file_extension": ".py",
   "mimetype": "text/x-python",
   "name": "python",
   "nbconvert_exporter": "python",
   "pygments_lexer": "ipython3",
   "version": "3.11.9"
  }
 },
 "nbformat": 4,
 "nbformat_minor": 5
}
